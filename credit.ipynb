{
  "cells": [
    {
      "cell_type": "markdown",
      "metadata": {
        "id": "view-in-github",
        "colab_type": "text"
      },
      "source": [
        "<a href=\"https://colab.research.google.com/github/Anshikadude/Random-Forest-Classifier/blob/main/credit.ipynb\" target=\"_parent\"><img src=\"https://colab.research.google.com/assets/colab-badge.svg\" alt=\"Open In Colab\"/></a>"
      ]
    },
    {
      "cell_type": "code",
      "execution_count": null,
      "metadata": {
        "id": "tUduRzQfHKBh"
      },
      "outputs": [],
      "source": [
        "import pandas as pd\n",
        "import numpy as np\n",
        "from sklearn.model_selection import train_test_split\n",
        "from sklearn.tree import DecisionTreeClassifier\n",
        "import matplotlib.pyplot as plt\n",
        "from sklearn.ensemble import RandomForestClassifier\n",
        "from sklearn.ensemble import GradientBoostingClassifier\n",
        "from sklearn.model_selection import GridSearchCV\n",
        "from sklearn.metrics import roc_auc_score, confusion_matrix , accuracy_score, precision_score\n",
        "\n",
        "\n",
        "from pylab import rcParams\n",
        "rcParams['figure.figsize'] = 8,8"
      ]
    },
    {
      "cell_type": "code",
      "execution_count": null,
      "metadata": {
        "id": "b2x0pNBjHasv"
      },
      "outputs": [],
      "source": [
        "df = pd.read_csv('/content/drive/MyDrive/creditcard.csv')"
      ]
    },
    {
      "cell_type": "code",
      "execution_count": null,
      "metadata": {
        "colab": {
          "base_uri": "https://localhost:8080/",
          "height": 488
        },
        "id": "9A7dp1caHj9I",
        "outputId": "c272be8b-933e-42ba-d814-91dd7bb97f7c"
      },
      "outputs": [
        {
          "data": {
            "text/html": [
              "\n",
              "  <div id=\"df-5fd98506-4991-4314-894b-0cf8badbcc26\">\n",
              "    <div class=\"colab-df-container\">\n",
              "      <div>\n",
              "<style scoped>\n",
              "    .dataframe tbody tr th:only-of-type {\n",
              "        vertical-align: middle;\n",
              "    }\n",
              "\n",
              "    .dataframe tbody tr th {\n",
              "        vertical-align: top;\n",
              "    }\n",
              "\n",
              "    .dataframe thead th {\n",
              "        text-align: right;\n",
              "    }\n",
              "</style>\n",
              "<table border=\"1\" class=\"dataframe\">\n",
              "  <thead>\n",
              "    <tr style=\"text-align: right;\">\n",
              "      <th></th>\n",
              "      <th>V1</th>\n",
              "      <th>V2</th>\n",
              "      <th>V3</th>\n",
              "      <th>V4</th>\n",
              "      <th>V5</th>\n",
              "      <th>V6</th>\n",
              "      <th>V7</th>\n",
              "      <th>V8</th>\n",
              "      <th>V9</th>\n",
              "      <th>V10</th>\n",
              "      <th>...</th>\n",
              "      <th>V21</th>\n",
              "      <th>V22</th>\n",
              "      <th>V23</th>\n",
              "      <th>V24</th>\n",
              "      <th>V25</th>\n",
              "      <th>V26</th>\n",
              "      <th>V27</th>\n",
              "      <th>V28</th>\n",
              "      <th>V29</th>\n",
              "      <th>Target</th>\n",
              "    </tr>\n",
              "  </thead>\n",
              "  <tbody>\n",
              "    <tr>\n",
              "      <th>0</th>\n",
              "      <td>0.114697</td>\n",
              "      <td>0.796303</td>\n",
              "      <td>-0.149553</td>\n",
              "      <td>-0.823011</td>\n",
              "      <td>0.878763</td>\n",
              "      <td>-0.553152</td>\n",
              "      <td>0.939259</td>\n",
              "      <td>-0.108502</td>\n",
              "      <td>0.111137</td>\n",
              "      <td>-0.390521</td>\n",
              "      <td>...</td>\n",
              "      <td>-0.335776</td>\n",
              "      <td>-0.807853</td>\n",
              "      <td>-0.055940</td>\n",
              "      <td>-1.025281</td>\n",
              "      <td>-0.369557</td>\n",
              "      <td>0.204653</td>\n",
              "      <td>0.242724</td>\n",
              "      <td>0.085713</td>\n",
              "      <td>0.89</td>\n",
              "      <td>0</td>\n",
              "    </tr>\n",
              "    <tr>\n",
              "      <th>1</th>\n",
              "      <td>-0.039318</td>\n",
              "      <td>0.495784</td>\n",
              "      <td>-0.810884</td>\n",
              "      <td>0.546693</td>\n",
              "      <td>1.986257</td>\n",
              "      <td>4.386342</td>\n",
              "      <td>-1.344891</td>\n",
              "      <td>-1.743736</td>\n",
              "      <td>-0.563103</td>\n",
              "      <td>-0.616315</td>\n",
              "      <td>...</td>\n",
              "      <td>-1.377003</td>\n",
              "      <td>-0.072200</td>\n",
              "      <td>-0.197573</td>\n",
              "      <td>1.014807</td>\n",
              "      <td>1.011293</td>\n",
              "      <td>-0.167684</td>\n",
              "      <td>0.113136</td>\n",
              "      <td>0.256836</td>\n",
              "      <td>85.00</td>\n",
              "      <td>0</td>\n",
              "    </tr>\n",
              "    <tr>\n",
              "      <th>2</th>\n",
              "      <td>2.275706</td>\n",
              "      <td>-1.531508</td>\n",
              "      <td>-1.021969</td>\n",
              "      <td>-1.602152</td>\n",
              "      <td>-1.220329</td>\n",
              "      <td>-0.462376</td>\n",
              "      <td>-1.196485</td>\n",
              "      <td>-0.147058</td>\n",
              "      <td>-0.950224</td>\n",
              "      <td>1.560463</td>\n",
              "      <td>...</td>\n",
              "      <td>-0.193271</td>\n",
              "      <td>-0.103533</td>\n",
              "      <td>0.150945</td>\n",
              "      <td>-0.811083</td>\n",
              "      <td>-0.197913</td>\n",
              "      <td>-0.128446</td>\n",
              "      <td>0.014197</td>\n",
              "      <td>-0.051289</td>\n",
              "      <td>42.70</td>\n",
              "      <td>0</td>\n",
              "    </tr>\n",
              "    <tr>\n",
              "      <th>3</th>\n",
              "      <td>1.940137</td>\n",
              "      <td>-0.357671</td>\n",
              "      <td>-1.210551</td>\n",
              "      <td>0.382523</td>\n",
              "      <td>0.050823</td>\n",
              "      <td>-0.171322</td>\n",
              "      <td>-0.109124</td>\n",
              "      <td>-0.002115</td>\n",
              "      <td>0.869258</td>\n",
              "      <td>-0.001965</td>\n",
              "      <td>...</td>\n",
              "      <td>0.157994</td>\n",
              "      <td>0.650355</td>\n",
              "      <td>0.034206</td>\n",
              "      <td>0.739535</td>\n",
              "      <td>0.223605</td>\n",
              "      <td>-0.195509</td>\n",
              "      <td>-0.012791</td>\n",
              "      <td>-0.056841</td>\n",
              "      <td>29.99</td>\n",
              "      <td>0</td>\n",
              "    </tr>\n",
              "    <tr>\n",
              "      <th>4</th>\n",
              "      <td>1.081395</td>\n",
              "      <td>-0.502615</td>\n",
              "      <td>1.075887</td>\n",
              "      <td>-0.543359</td>\n",
              "      <td>-1.472946</td>\n",
              "      <td>-1.065484</td>\n",
              "      <td>-0.443231</td>\n",
              "      <td>-0.143374</td>\n",
              "      <td>1.659826</td>\n",
              "      <td>-1.131238</td>\n",
              "      <td>...</td>\n",
              "      <td>0.224157</td>\n",
              "      <td>0.821209</td>\n",
              "      <td>-0.137223</td>\n",
              "      <td>0.986259</td>\n",
              "      <td>0.563228</td>\n",
              "      <td>-0.574206</td>\n",
              "      <td>0.089673</td>\n",
              "      <td>0.052036</td>\n",
              "      <td>68.00</td>\n",
              "      <td>0</td>\n",
              "    </tr>\n",
              "    <tr>\n",
              "      <th>...</th>\n",
              "      <td>...</td>\n",
              "      <td>...</td>\n",
              "      <td>...</td>\n",
              "      <td>...</td>\n",
              "      <td>...</td>\n",
              "      <td>...</td>\n",
              "      <td>...</td>\n",
              "      <td>...</td>\n",
              "      <td>...</td>\n",
              "      <td>...</td>\n",
              "      <td>...</td>\n",
              "      <td>...</td>\n",
              "      <td>...</td>\n",
              "      <td>...</td>\n",
              "      <td>...</td>\n",
              "      <td>...</td>\n",
              "      <td>...</td>\n",
              "      <td>...</td>\n",
              "      <td>...</td>\n",
              "      <td>...</td>\n",
              "      <td>...</td>\n",
              "    </tr>\n",
              "    <tr>\n",
              "      <th>56957</th>\n",
              "      <td>2.030797</td>\n",
              "      <td>-0.825073</td>\n",
              "      <td>-0.729555</td>\n",
              "      <td>-0.519187</td>\n",
              "      <td>-0.639893</td>\n",
              "      <td>-0.169482</td>\n",
              "      <td>-0.619049</td>\n",
              "      <td>-0.017902</td>\n",
              "      <td>-0.578643</td>\n",
              "      <td>0.915645</td>\n",
              "      <td>...</td>\n",
              "      <td>-0.790167</td>\n",
              "      <td>-1.825357</td>\n",
              "      <td>0.600083</td>\n",
              "      <td>0.702623</td>\n",
              "      <td>-0.782688</td>\n",
              "      <td>-0.007105</td>\n",
              "      <td>-0.041057</td>\n",
              "      <td>-0.038601</td>\n",
              "      <td>42.42</td>\n",
              "      <td>0</td>\n",
              "    </tr>\n",
              "    <tr>\n",
              "      <th>56958</th>\n",
              "      <td>-0.263947</td>\n",
              "      <td>1.119700</td>\n",
              "      <td>-0.639394</td>\n",
              "      <td>-0.880567</td>\n",
              "      <td>1.194120</td>\n",
              "      <td>-0.310693</td>\n",
              "      <td>0.962087</td>\n",
              "      <td>-0.088880</td>\n",
              "      <td>0.386664</td>\n",
              "      <td>0.195362</td>\n",
              "      <td>...</td>\n",
              "      <td>-0.448081</td>\n",
              "      <td>-0.893010</td>\n",
              "      <td>0.004678</td>\n",
              "      <td>0.062555</td>\n",
              "      <td>-0.347536</td>\n",
              "      <td>0.106510</td>\n",
              "      <td>0.274117</td>\n",
              "      <td>-0.036263</td>\n",
              "      <td>7.99</td>\n",
              "      <td>0</td>\n",
              "    </tr>\n",
              "    <tr>\n",
              "      <th>56959</th>\n",
              "      <td>2.206867</td>\n",
              "      <td>-0.748559</td>\n",
              "      <td>-1.443015</td>\n",
              "      <td>-1.101542</td>\n",
              "      <td>-0.332197</td>\n",
              "      <td>-0.646931</td>\n",
              "      <td>-0.536272</td>\n",
              "      <td>-0.129437</td>\n",
              "      <td>-0.712381</td>\n",
              "      <td>1.057616</td>\n",
              "      <td>...</td>\n",
              "      <td>0.471336</td>\n",
              "      <td>1.314052</td>\n",
              "      <td>0.038930</td>\n",
              "      <td>0.747315</td>\n",
              "      <td>0.158017</td>\n",
              "      <td>0.021897</td>\n",
              "      <td>-0.046200</td>\n",
              "      <td>-0.072586</td>\n",
              "      <td>1.00</td>\n",
              "      <td>0</td>\n",
              "    </tr>\n",
              "    <tr>\n",
              "      <th>56960</th>\n",
              "      <td>1.430579</td>\n",
              "      <td>-0.842354</td>\n",
              "      <td>0.415998</td>\n",
              "      <td>-1.328439</td>\n",
              "      <td>-1.284654</td>\n",
              "      <td>-0.888110</td>\n",
              "      <td>-0.653237</td>\n",
              "      <td>-0.238164</td>\n",
              "      <td>-2.220845</td>\n",
              "      <td>1.350845</td>\n",
              "      <td>...</td>\n",
              "      <td>-0.577415</td>\n",
              "      <td>-1.323989</td>\n",
              "      <td>0.336843</td>\n",
              "      <td>0.329714</td>\n",
              "      <td>-0.007425</td>\n",
              "      <td>-0.636401</td>\n",
              "      <td>0.037095</td>\n",
              "      <td>0.029180</td>\n",
              "      <td>30.00</td>\n",
              "      <td>0</td>\n",
              "    </tr>\n",
              "    <tr>\n",
              "      <th>56961</th>\n",
              "      <td>-7.792712</td>\n",
              "      <td>5.599937</td>\n",
              "      <td>0.258943</td>\n",
              "      <td>0.061360</td>\n",
              "      <td>-2.586555</td>\n",
              "      <td>4.770837</td>\n",
              "      <td>-8.221863</td>\n",
              "      <td>-20.298380</td>\n",
              "      <td>2.028566</td>\n",
              "      <td>-0.030694</td>\n",
              "      <td>...</td>\n",
              "      <td>12.641459</td>\n",
              "      <td>-4.187308</td>\n",
              "      <td>2.655058</td>\n",
              "      <td>0.350225</td>\n",
              "      <td>0.462620</td>\n",
              "      <td>0.455248</td>\n",
              "      <td>0.166157</td>\n",
              "      <td>0.099680</td>\n",
              "      <td>8.39</td>\n",
              "      <td>0</td>\n",
              "    </tr>\n",
              "  </tbody>\n",
              "</table>\n",
              "<p>56962 rows × 30 columns</p>\n",
              "</div>\n",
              "      <button class=\"colab-df-convert\" onclick=\"convertToInteractive('df-5fd98506-4991-4314-894b-0cf8badbcc26')\"\n",
              "              title=\"Convert this dataframe to an interactive table.\"\n",
              "              style=\"display:none;\">\n",
              "        \n",
              "  <svg xmlns=\"http://www.w3.org/2000/svg\" height=\"24px\"viewBox=\"0 0 24 24\"\n",
              "       width=\"24px\">\n",
              "    <path d=\"M0 0h24v24H0V0z\" fill=\"none\"/>\n",
              "    <path d=\"M18.56 5.44l.94 2.06.94-2.06 2.06-.94-2.06-.94-.94-2.06-.94 2.06-2.06.94zm-11 1L8.5 8.5l.94-2.06 2.06-.94-2.06-.94L8.5 2.5l-.94 2.06-2.06.94zm10 10l.94 2.06.94-2.06 2.06-.94-2.06-.94-.94-2.06-.94 2.06-2.06.94z\"/><path d=\"M17.41 7.96l-1.37-1.37c-.4-.4-.92-.59-1.43-.59-.52 0-1.04.2-1.43.59L10.3 9.45l-7.72 7.72c-.78.78-.78 2.05 0 2.83L4 21.41c.39.39.9.59 1.41.59.51 0 1.02-.2 1.41-.59l7.78-7.78 2.81-2.81c.8-.78.8-2.07 0-2.86zM5.41 20L4 18.59l7.72-7.72 1.47 1.35L5.41 20z\"/>\n",
              "  </svg>\n",
              "      </button>\n",
              "      \n",
              "  <style>\n",
              "    .colab-df-container {\n",
              "      display:flex;\n",
              "      flex-wrap:wrap;\n",
              "      gap: 12px;\n",
              "    }\n",
              "\n",
              "    .colab-df-convert {\n",
              "      background-color: #E8F0FE;\n",
              "      border: none;\n",
              "      border-radius: 50%;\n",
              "      cursor: pointer;\n",
              "      display: none;\n",
              "      fill: #1967D2;\n",
              "      height: 32px;\n",
              "      padding: 0 0 0 0;\n",
              "      width: 32px;\n",
              "    }\n",
              "\n",
              "    .colab-df-convert:hover {\n",
              "      background-color: #E2EBFA;\n",
              "      box-shadow: 0px 1px 2px rgba(60, 64, 67, 0.3), 0px 1px 3px 1px rgba(60, 64, 67, 0.15);\n",
              "      fill: #174EA6;\n",
              "    }\n",
              "\n",
              "    [theme=dark] .colab-df-convert {\n",
              "      background-color: #3B4455;\n",
              "      fill: #D2E3FC;\n",
              "    }\n",
              "\n",
              "    [theme=dark] .colab-df-convert:hover {\n",
              "      background-color: #434B5C;\n",
              "      box-shadow: 0px 1px 3px 1px rgba(0, 0, 0, 0.15);\n",
              "      filter: drop-shadow(0px 1px 2px rgba(0, 0, 0, 0.3));\n",
              "      fill: #FFFFFF;\n",
              "    }\n",
              "  </style>\n",
              "\n",
              "      <script>\n",
              "        const buttonEl =\n",
              "          document.querySelector('#df-5fd98506-4991-4314-894b-0cf8badbcc26 button.colab-df-convert');\n",
              "        buttonEl.style.display =\n",
              "          google.colab.kernel.accessAllowed ? 'block' : 'none';\n",
              "\n",
              "        async function convertToInteractive(key) {\n",
              "          const element = document.querySelector('#df-5fd98506-4991-4314-894b-0cf8badbcc26');\n",
              "          const dataTable =\n",
              "            await google.colab.kernel.invokeFunction('convertToInteractive',\n",
              "                                                     [key], {});\n",
              "          if (!dataTable) return;\n",
              "\n",
              "          const docLinkHtml = 'Like what you see? Visit the ' +\n",
              "            '<a target=\"_blank\" href=https://colab.research.google.com/notebooks/data_table.ipynb>data table notebook</a>'\n",
              "            + ' to learn more about interactive tables.';\n",
              "          element.innerHTML = '';\n",
              "          dataTable['output_type'] = 'display_data';\n",
              "          await google.colab.output.renderOutput(dataTable, element);\n",
              "          const docLink = document.createElement('div');\n",
              "          docLink.innerHTML = docLinkHtml;\n",
              "          element.appendChild(docLink);\n",
              "        }\n",
              "      </script>\n",
              "    </div>\n",
              "  </div>\n",
              "  "
            ],
            "text/plain": [
              "             V1        V2        V3        V4        V5        V6        V7  \\\n",
              "0      0.114697  0.796303 -0.149553 -0.823011  0.878763 -0.553152  0.939259   \n",
              "1     -0.039318  0.495784 -0.810884  0.546693  1.986257  4.386342 -1.344891   \n",
              "2      2.275706 -1.531508 -1.021969 -1.602152 -1.220329 -0.462376 -1.196485   \n",
              "3      1.940137 -0.357671 -1.210551  0.382523  0.050823 -0.171322 -0.109124   \n",
              "4      1.081395 -0.502615  1.075887 -0.543359 -1.472946 -1.065484 -0.443231   \n",
              "...         ...       ...       ...       ...       ...       ...       ...   \n",
              "56957  2.030797 -0.825073 -0.729555 -0.519187 -0.639893 -0.169482 -0.619049   \n",
              "56958 -0.263947  1.119700 -0.639394 -0.880567  1.194120 -0.310693  0.962087   \n",
              "56959  2.206867 -0.748559 -1.443015 -1.101542 -0.332197 -0.646931 -0.536272   \n",
              "56960  1.430579 -0.842354  0.415998 -1.328439 -1.284654 -0.888110 -0.653237   \n",
              "56961 -7.792712  5.599937  0.258943  0.061360 -2.586555  4.770837 -8.221863   \n",
              "\n",
              "              V8        V9       V10  ...        V21       V22       V23  \\\n",
              "0      -0.108502  0.111137 -0.390521  ...  -0.335776 -0.807853 -0.055940   \n",
              "1      -1.743736 -0.563103 -0.616315  ...  -1.377003 -0.072200 -0.197573   \n",
              "2      -0.147058 -0.950224  1.560463  ...  -0.193271 -0.103533  0.150945   \n",
              "3      -0.002115  0.869258 -0.001965  ...   0.157994  0.650355  0.034206   \n",
              "4      -0.143374  1.659826 -1.131238  ...   0.224157  0.821209 -0.137223   \n",
              "...          ...       ...       ...  ...        ...       ...       ...   \n",
              "56957  -0.017902 -0.578643  0.915645  ...  -0.790167 -1.825357  0.600083   \n",
              "56958  -0.088880  0.386664  0.195362  ...  -0.448081 -0.893010  0.004678   \n",
              "56959  -0.129437 -0.712381  1.057616  ...   0.471336  1.314052  0.038930   \n",
              "56960  -0.238164 -2.220845  1.350845  ...  -0.577415 -1.323989  0.336843   \n",
              "56961 -20.298380  2.028566 -0.030694  ...  12.641459 -4.187308  2.655058   \n",
              "\n",
              "            V24       V25       V26       V27       V28    V29  Target  \n",
              "0     -1.025281 -0.369557  0.204653  0.242724  0.085713   0.89       0  \n",
              "1      1.014807  1.011293 -0.167684  0.113136  0.256836  85.00       0  \n",
              "2     -0.811083 -0.197913 -0.128446  0.014197 -0.051289  42.70       0  \n",
              "3      0.739535  0.223605 -0.195509 -0.012791 -0.056841  29.99       0  \n",
              "4      0.986259  0.563228 -0.574206  0.089673  0.052036  68.00       0  \n",
              "...         ...       ...       ...       ...       ...    ...     ...  \n",
              "56957  0.702623 -0.782688 -0.007105 -0.041057 -0.038601  42.42       0  \n",
              "56958  0.062555 -0.347536  0.106510  0.274117 -0.036263   7.99       0  \n",
              "56959  0.747315  0.158017  0.021897 -0.046200 -0.072586   1.00       0  \n",
              "56960  0.329714 -0.007425 -0.636401  0.037095  0.029180  30.00       0  \n",
              "56961  0.350225  0.462620  0.455248  0.166157  0.099680   8.39       0  \n",
              "\n",
              "[56962 rows x 30 columns]"
            ]
          },
          "execution_count": 3,
          "metadata": {},
          "output_type": "execute_result"
        }
      ],
      "source": [
        "df"
      ]
    },
    {
      "cell_type": "code",
      "execution_count": null,
      "metadata": {
        "colab": {
          "base_uri": "https://localhost:8080/"
        },
        "id": "KldGUWEOHmj2",
        "outputId": "0572f1ef-1f5b-42e5-850a-0931744fc89c"
      },
      "outputs": [
        {
          "name": "stdout",
          "output_type": "stream",
          "text": [
            "<class 'pandas.core.frame.DataFrame'>\n",
            "RangeIndex: 56962 entries, 0 to 56961\n",
            "Data columns (total 30 columns):\n",
            " #   Column  Non-Null Count  Dtype  \n",
            "---  ------  --------------  -----  \n",
            " 0   V1      56962 non-null  float64\n",
            " 1   V2      56962 non-null  float64\n",
            " 2   V3      56962 non-null  float64\n",
            " 3   V4      56962 non-null  float64\n",
            " 4   V5      56962 non-null  float64\n",
            " 5   V6      56962 non-null  float64\n",
            " 6   V7      56962 non-null  float64\n",
            " 7   V8      56962 non-null  float64\n",
            " 8   V9      56962 non-null  float64\n",
            " 9   V10     56962 non-null  float64\n",
            " 10  V11     56962 non-null  float64\n",
            " 11  V12     56962 non-null  float64\n",
            " 12  V13     56962 non-null  float64\n",
            " 13  V14     56962 non-null  float64\n",
            " 14  V15     56962 non-null  float64\n",
            " 15  V16     56962 non-null  float64\n",
            " 16  V17     56962 non-null  float64\n",
            " 17  V18     56962 non-null  float64\n",
            " 18  V19     56962 non-null  float64\n",
            " 19  V20     56962 non-null  float64\n",
            " 20  V21     56962 non-null  float64\n",
            " 21  V22     56962 non-null  float64\n",
            " 22  V23     56962 non-null  float64\n",
            " 23  V24     56962 non-null  float64\n",
            " 24  V25     56962 non-null  float64\n",
            " 25  V26     56962 non-null  float64\n",
            " 26  V27     56962 non-null  float64\n",
            " 27  V28     56962 non-null  float64\n",
            " 28  V29     56962 non-null  float64\n",
            " 29  Target  56962 non-null  int64  \n",
            "dtypes: float64(29), int64(1)\n",
            "memory usage: 13.0 MB\n"
          ]
        }
      ],
      "source": [
        "df.info()\n"
      ]
    },
    {
      "cell_type": "code",
      "execution_count": null,
      "metadata": {
        "colab": {
          "base_uri": "https://localhost:8080/"
        },
        "id": "pj71vtYhOc1G",
        "outputId": "ee6863b7-26af-42f1-be30-7ee67ca53840"
      },
      "outputs": [
        {
          "data": {
            "text/plain": [
              "0    56864\n",
              "1       98\n",
              "Name: Target, dtype: int64"
            ]
          },
          "execution_count": 5,
          "metadata": {},
          "output_type": "execute_result"
        }
      ],
      "source": [
        "df['Target'].value_counts()"
      ]
    },
    {
      "cell_type": "code",
      "execution_count": null,
      "metadata": {
        "colab": {
          "base_uri": "https://localhost:8080/"
        },
        "id": "MxmtkhdeOkkz",
        "outputId": "20ac3db8-ef1b-4204-f4cc-73768032149a"
      },
      "outputs": [
        {
          "data": {
            "text/plain": [
              "<bound method NDFrame.head of              V1        V2        V3        V4        V5        V6        V7  \\\n",
              "0      0.114697  0.796303 -0.149553 -0.823011  0.878763 -0.553152  0.939259   \n",
              "1     -0.039318  0.495784 -0.810884  0.546693  1.986257  4.386342 -1.344891   \n",
              "2      2.275706 -1.531508 -1.021969 -1.602152 -1.220329 -0.462376 -1.196485   \n",
              "3      1.940137 -0.357671 -1.210551  0.382523  0.050823 -0.171322 -0.109124   \n",
              "4      1.081395 -0.502615  1.075887 -0.543359 -1.472946 -1.065484 -0.443231   \n",
              "...         ...       ...       ...       ...       ...       ...       ...   \n",
              "56957  2.030797 -0.825073 -0.729555 -0.519187 -0.639893 -0.169482 -0.619049   \n",
              "56958 -0.263947  1.119700 -0.639394 -0.880567  1.194120 -0.310693  0.962087   \n",
              "56959  2.206867 -0.748559 -1.443015 -1.101542 -0.332197 -0.646931 -0.536272   \n",
              "56960  1.430579 -0.842354  0.415998 -1.328439 -1.284654 -0.888110 -0.653237   \n",
              "56961 -7.792712  5.599937  0.258943  0.061360 -2.586555  4.770837 -8.221863   \n",
              "\n",
              "              V8        V9       V10  ...       V20        V21       V22  \\\n",
              "0      -0.108502  0.111137 -0.390521  ... -0.042711  -0.335776 -0.807853   \n",
              "1      -1.743736 -0.563103 -0.616315  ...  0.926255  -1.377003 -0.072200   \n",
              "2      -0.147058 -0.950224  1.560463  ... -0.408289  -0.193271 -0.103533   \n",
              "3      -0.002115  0.869258 -0.001965  ... -0.199280   0.157994  0.650355   \n",
              "4      -0.143374  1.659826 -1.131238  ...  0.059880   0.224157  0.821209   \n",
              "...          ...       ...       ...  ...       ...        ...       ...   \n",
              "56957  -0.017902 -0.578643  0.915645  ... -0.458358  -0.790167 -1.825357   \n",
              "56958  -0.088880  0.386664  0.195362  ...  0.294948  -0.448081 -0.893010   \n",
              "56959  -0.129437 -0.712381  1.057616  ... -0.065957   0.471336  1.314052   \n",
              "56960  -0.238164 -2.220845  1.350845  ... -0.289844  -0.577415 -1.323989   \n",
              "56961 -20.298380  2.028566 -0.030694  ... -2.136013  12.641459 -4.187308   \n",
              "\n",
              "            V23       V24       V25       V26       V27       V28    V29  \n",
              "0     -0.055940 -1.025281 -0.369557  0.204653  0.242724  0.085713   0.89  \n",
              "1     -0.197573  1.014807  1.011293 -0.167684  0.113136  0.256836  85.00  \n",
              "2      0.150945 -0.811083 -0.197913 -0.128446  0.014197 -0.051289  42.70  \n",
              "3      0.034206  0.739535  0.223605 -0.195509 -0.012791 -0.056841  29.99  \n",
              "4     -0.137223  0.986259  0.563228 -0.574206  0.089673  0.052036  68.00  \n",
              "...         ...       ...       ...       ...       ...       ...    ...  \n",
              "56957  0.600083  0.702623 -0.782688 -0.007105 -0.041057 -0.038601  42.42  \n",
              "56958  0.004678  0.062555 -0.347536  0.106510  0.274117 -0.036263   7.99  \n",
              "56959  0.038930  0.747315  0.158017  0.021897 -0.046200 -0.072586   1.00  \n",
              "56960  0.336843  0.329714 -0.007425 -0.636401  0.037095  0.029180  30.00  \n",
              "56961  2.655058  0.350225  0.462620  0.455248  0.166157  0.099680   8.39  \n",
              "\n",
              "[56962 rows x 29 columns]>"
            ]
          },
          "execution_count": 6,
          "metadata": {},
          "output_type": "execute_result"
        }
      ],
      "source": [
        "x = df.drop(['Target'], axis = 1)\n",
        "x.head"
      ]
    },
    {
      "cell_type": "code",
      "execution_count": null,
      "metadata": {
        "id": "fPxMTsOqPAM-"
      },
      "outputs": [],
      "source": [
        "y = df['Target']"
      ]
    },
    {
      "cell_type": "code",
      "execution_count": null,
      "metadata": {
        "id": "4qzamt_gPExa"
      },
      "outputs": [],
      "source": [
        "x_train , x_test, y_train, y_test = train_test_split(x,y, test_size=0.2, random_state=0, stratify = y)"
      ]
    },
    {
      "cell_type": "code",
      "execution_count": null,
      "metadata": {
        "colab": {
          "base_uri": "https://localhost:8080/"
        },
        "id": "D05w4XDRPwFZ",
        "outputId": "06077a06-b889-49f0-d60d-88645e139999"
      },
      "outputs": [
        {
          "data": {
            "text/plain": [
              "0    45491\n",
              "1       78\n",
              "Name: Target, dtype: int64"
            ]
          },
          "execution_count": 9,
          "metadata": {},
          "output_type": "execute_result"
        }
      ],
      "source": [
        "y_train.value_counts()"
      ]
    },
    {
      "cell_type": "code",
      "execution_count": null,
      "metadata": {
        "colab": {
          "base_uri": "https://localhost:8080/"
        },
        "id": "WZZ_CG4hP9BN",
        "outputId": "140324ad-4317-4825-ef2f-7a3b90bd8989"
      },
      "outputs": [
        {
          "data": {
            "text/plain": [
              "0.17116899646689637"
            ]
          },
          "execution_count": 10,
          "metadata": {},
          "output_type": "execute_result"
        }
      ],
      "source": [
        "78/(78+45491)*100"
      ]
    },
    {
      "cell_type": "code",
      "execution_count": null,
      "metadata": {
        "colab": {
          "base_uri": "https://localhost:8080/"
        },
        "id": "sQGbbStoP3DS",
        "outputId": "da92dbb8-29e8-43ea-e3bb-655c3aab6a04"
      },
      "outputs": [
        {
          "data": {
            "text/plain": [
              "0    11373\n",
              "1       20\n",
              "Name: Target, dtype: int64"
            ]
          },
          "execution_count": 11,
          "metadata": {},
          "output_type": "execute_result"
        }
      ],
      "source": [
        "y_test.value_counts()"
      ]
    },
    {
      "cell_type": "code",
      "execution_count": null,
      "metadata": {
        "colab": {
          "base_uri": "https://localhost:8080/"
        },
        "id": "uEE-TLw5QEVQ",
        "outputId": "3701e086-0aa0-4aac-b6bc-50e90e5a691a"
      },
      "outputs": [
        {
          "data": {
            "text/plain": [
              "0.17554638813306417"
            ]
          },
          "execution_count": 12,
          "metadata": {},
          "output_type": "execute_result"
        }
      ],
      "source": [
        "20/(20+11373)*100"
      ]
    },
    {
      "cell_type": "code",
      "execution_count": null,
      "metadata": {
        "colab": {
          "base_uri": "https://localhost:8080/"
        },
        "id": "ax6n3869R2ju",
        "outputId": "2d94c9ad-0356-4c84-d200-541a4e971a05"
      },
      "outputs": [
        {
          "data": {
            "text/plain": [
              "RandomForestClassifier(max_depth=3, n_estimators=50)"
            ]
          },
          "execution_count": 13,
          "metadata": {},
          "output_type": "execute_result"
        }
      ],
      "source": [
        "clf = RandomForestClassifier(n_estimators=50, max_depth =3)\n",
        "#grid_values = {'n_estimators':[50,80,100], 'max_depth':[3,5,7]}\n",
        "#clf = GridSearchCV(clf, param_grid= grid_values, scoring = 'roc_auc', cv =5)\n",
        "clf.fit(x_train,y_train)"
      ]
    },
    {
      "cell_type": "code",
      "execution_count": null,
      "metadata": {
        "id": "_C9g04nDTO5J"
      },
      "outputs": [],
      "source": [
        "train_pred = clf.predict(x_train)\n",
        "test_pred = clf.predict(x_test)"
      ]
    },
    {
      "cell_type": "code",
      "execution_count": null,
      "metadata": {
        "colab": {
          "base_uri": "https://localhost:8080/"
        },
        "id": "uOpNBsqJVww6",
        "outputId": "e105e354-75c9-4b50-8a39-04ddb931d8bf"
      },
      "outputs": [
        {
          "data": {
            "text/plain": [
              "0.9375"
            ]
          },
          "execution_count": 15,
          "metadata": {},
          "output_type": "execute_result"
        }
      ],
      "source": [
        "precision_score(y_train,train_pred)"
      ]
    },
    {
      "cell_type": "code",
      "execution_count": null,
      "metadata": {
        "colab": {
          "base_uri": "https://localhost:8080/"
        },
        "id": "NPutrpYRWJrI",
        "outputId": "f231aa15-303c-4f22-c341-c0884a001e6a"
      },
      "outputs": [
        {
          "data": {
            "text/plain": [
              "array([[45488,     3],\n",
              "       [   33,    45]])"
            ]
          },
          "execution_count": 16,
          "metadata": {},
          "output_type": "execute_result"
        }
      ],
      "source": [
        "confusion_matrix(y_train,train_pred)"
      ]
    },
    {
      "cell_type": "code",
      "execution_count": null,
      "metadata": {
        "colab": {
          "base_uri": "https://localhost:8080/"
        },
        "id": "DDeqYPT1WRlA",
        "outputId": "bd9f312d-b6aa-4f65-aefc-3e70c026a287"
      },
      "outputs": [
        {
          "data": {
            "text/plain": [
              "array([[11371,     2],\n",
              "       [    6,    14]])"
            ]
          },
          "execution_count": 17,
          "metadata": {},
          "output_type": "execute_result"
        }
      ],
      "source": [
        "confusion_matrix(y_test,test_pred)"
      ]
    },
    {
      "cell_type": "code",
      "execution_count": null,
      "metadata": {
        "id": "QbYi3klsWViG"
      },
      "outputs": [],
      "source": [
        "features = x_train.columns\n",
        "from sklearn.inspection import permutation_importance\n",
        "importances= clf.feature_importances_\n",
        "indices = np.argsort(importances)"
      ]
    },
    {
      "cell_type": "code",
      "execution_count": null,
      "metadata": {
        "colab": {
          "base_uri": "https://localhost:8080/",
          "height": 513
        },
        "id": "NF2_KTNPYxQo",
        "outputId": "4babcc45-c0b4-467c-dd99-bcff4faa4a4e"
      },
      "outputs": [
        {
          "data": {
            "image/png": "[encoded data removed]",
            "text/plain": [
              "<Figure size 576x576 with 1 Axes>"
            ]
          },
          "metadata": {},
          "output_type": "display_data"
        }
      ],
      "source": [
        "plt.title('Feature Importance')\n",
        "plt.barh(range(len(indices)), importances[indices], color = 'red', align = 'center')\n",
        "plt.yticks(range(len(indices)), [features[i] for i in indices])\n",
        "plt.xlabel('Relative Importance')\n",
        "\n",
        "plt.show()"
      ]
    }
  ],
  "metadata": {
    "colab": {
      "provenance": [],
      "mount_file_id": "1kPLG4gYK5AfDgCU0_YyYAVBrjkTevhUv",
      "authorship_tag": "ABX9TyNYg/HRSM2evmsWa6cd21o2",
      "include_colab_link": true
    },
    "kernelspec": {
      "display_name": "Python 3",
      "name": "python3"
    },
    "language_info": {
      "name": "python"
    }
  },
  "nbformat": 4,
  "nbformat_minor": 0
}